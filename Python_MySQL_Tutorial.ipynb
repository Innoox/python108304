{
 "cells": [
  {
   "cell_type": "markdown",
   "metadata": {},
   "source": [
    "# Python MySQL Create Database"
   ]
  },
  {
   "cell_type": "markdown",
   "metadata": {},
   "source": [
    "<p>First of all you have to install mysql connector.</p> \n",
    "<p>I'll install it via pip</p>  \n",
    "<p>Open Anaconda command prompt:</p>  "
   ]
  },
  {
   "cell_type": "markdown",
   "metadata": {},
   "source": [
    "```console\n",
    "pip install mysql-connector-python\n",
    "```"
   ]
  },
  {
   "cell_type": "markdown",
   "metadata": {},
   "source": [
    "## Now create config to hold data"
   ]
  },
  {
   "cell_type": "code",
   "execution_count": 17,
   "metadata": {},
   "outputs": [],
   "source": [
    "config = {\n",
    "    \"host\": \"localhost\",\n",
    "    \"user\": \"root\",\n",
    "    \"passwd\": \"Admin123/.\",\n",
    "    \"database\": \"python_mysql_tutorial\",\n",
    "}"
   ]
  },
  {
   "cell_type": "markdown",
   "metadata": {},
   "source": [
    "## Test MySQL Connector"
   ]
  },
  {
   "cell_type": "code",
   "execution_count": 19,
   "metadata": {
    "scrolled": true
   },
   "outputs": [
    {
     "name": "stdout",
     "output_type": "stream",
     "text": [
      "All done! Enjoy.\n",
      "<mysql.connector.connection.MySQLConnection object at 0x000001E35382B6C8>\n"
     ]
    }
   ],
   "source": [
    "import mysql.connector\n",
    "\n",
    "myConn = mysql.connector.connect(\n",
    "    host = config[\"host\"],\n",
    "    user = config[\"user\"],\n",
    "    passwd = config[\"passwd\"]\n",
    ")\n",
    "\n",
    "if (myConn):\n",
    "    print(\"All done! Enjoy.\")\n",
    "print(mydb)"
   ]
  },
  {
   "cell_type": "markdown",
   "metadata": {},
   "source": [
    "## Creating a Database"
   ]
  },
  {
   "cell_type": "code",
   "execution_count": 25,
   "metadata": {},
   "outputs": [],
   "source": [
    "myCursor = mydb.cursor()\n",
    "\n",
    "myCursor.execute(\"CREATE DATABASE \"+config[\"database\"])"
   ]
  },
  {
   "cell_type": "markdown",
   "metadata": {},
   "source": [
    "## Check if database successfully created"
   ]
  },
  {
   "cell_type": "code",
   "execution_count": 50,
   "metadata": {},
   "outputs": [
    {
     "name": "stdout",
     "output_type": "stream",
     "text": [
      "('python_mysql_tutorial',)\n"
     ]
    }
   ],
   "source": [
    "myConn = mysql.connector.connect(\n",
    "    host = config[\"host\"],\n",
    "    user = config[\"user\"],\n",
    "    passwd = config[\"passwd\"],\n",
    "    database = config[\"database\"],\n",
    ")\n",
    "myCursor = myConn.cursor()\n",
    "\n",
    "myCursor.execute(\"SHOW DATABASES\")\n",
    "\n",
    "for x in myCursor:\n",
    "    #print(x)\n",
    "    if (x == (config['database'],)):\n",
    "        print(x)"
   ]
  },
  {
   "cell_type": "markdown",
   "metadata": {},
   "source": [
    "## Creating a Table\n",
    "Make sure you define the name of the database when you create the connection"
   ]
  },
  {
   "cell_type": "code",
   "execution_count": 52,
   "metadata": {},
   "outputs": [
    {
     "name": "stdout",
     "output_type": "stream",
     "text": [
      "('users',)\n"
     ]
    }
   ],
   "source": [
    "touch = myConn.cursor()\n",
    "touch.execute(\"CREATE TABLE users (name VARCHAR(255), email VARCHAR(255), password VARCHAR(255))\")\n",
    "\n",
    "touch = myConn.cursor()\n",
    "touch.execute(\"SHOW TABLES\")\n",
    "\n",
    "for x in touch:\n",
    "    print(x)"
   ]
  }
 ],
 "metadata": {
  "kernelspec": {
   "display_name": "Python 3",
   "language": "python",
   "name": "python3"
  },
  "language_info": {
   "codemirror_mode": {
    "name": "ipython",
    "version": 3
   },
   "file_extension": ".py",
   "mimetype": "text/x-python",
   "name": "python",
   "nbconvert_exporter": "python",
   "pygments_lexer": "ipython3",
   "version": "3.7.5"
  }
 },
 "nbformat": 4,
 "nbformat_minor": 2
}
