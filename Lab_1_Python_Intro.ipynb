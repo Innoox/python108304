{
 "cells": [
  {
   "cell_type": "code",
   "execution_count": 72,
   "metadata": {},
   "outputs": [
    {
     "name": "stdout",
     "output_type": "stream",
     "text": [
      "[(1, 5), (3, 3), (2, 2), (5, 4), (1, 3), (3, 2), (6, 1), (6, 1), (4, 4), (4, 1), (6, 5), (2, 5), (5, 2), (4, 4), (1, 6), (5, 1), (4, 5), (5, 6), (2, 3), (2, 6), (4, 2), (3, 5), (2, 6), (3, 2), (2, 4), (2, 5), (4, 2), (5, 3), (3, 2), (2, 4), (3, 6), (2, 4), (4, 6), (3, 4), (2, 3), (6, 4), (5, 5), (5, 3), (1, 4), (2, 2), (2, 3), (4, 1), (4, 1), (3, 3), (1, 2), (2, 4), (1, 1), (6, 1), (5, 6), (6, 2), (5, 6), (3, 5), (5, 3), (4, 2), (4, 4), (2, 3), (5, 3), (1, 1), (6, 5), (2, 1), (4, 1), (2, 5), (4, 3), (3, 4), (1, 6), (6, 2), (3, 6), (3, 1), (2, 1), (4, 1), (5, 1), (5, 6), (2, 1), (6, 5), (3, 3), (1, 1), (6, 5), (2, 5), (5, 2), (4, 2), (3, 6), (2, 5), (2, 5), (3, 5), (4, 2), (6, 4), (3, 4), (5, 5), (1, 6), (5, 6), (1, 4), (4, 2), (6, 1), (4, 2), (4, 4), (6, 6), (2, 3), (2, 3), (6, 4), (6, 6)]\n",
      "100\n"
     ]
    },
    {
     "data": {
      "text/plain": [
       "Counter({(1, 5): 1,\n",
       "         (3, 3): 3,\n",
       "         (2, 2): 2,\n",
       "         (5, 4): 1,\n",
       "         (1, 3): 1,\n",
       "         (3, 2): 3,\n",
       "         (6, 1): 4,\n",
       "         (4, 4): 4,\n",
       "         (4, 1): 5,\n",
       "         (6, 5): 4,\n",
       "         (2, 5): 6,\n",
       "         (5, 2): 2,\n",
       "         (1, 6): 3,\n",
       "         (5, 1): 2,\n",
       "         (4, 5): 1,\n",
       "         (5, 6): 5,\n",
       "         (2, 3): 6,\n",
       "         (2, 6): 2,\n",
       "         (4, 2): 7,\n",
       "         (3, 5): 3,\n",
       "         (2, 4): 4,\n",
       "         (5, 3): 4,\n",
       "         (3, 6): 3,\n",
       "         (4, 6): 1,\n",
       "         (3, 4): 3,\n",
       "         (6, 4): 3,\n",
       "         (5, 5): 2,\n",
       "         (1, 4): 2,\n",
       "         (1, 2): 1,\n",
       "         (1, 1): 3,\n",
       "         (6, 2): 2,\n",
       "         (2, 1): 3,\n",
       "         (4, 3): 1,\n",
       "         (3, 1): 1,\n",
       "         (6, 6): 2})"
      ]
     },
     "execution_count": 72,
     "metadata": {},
     "output_type": "execute_result"
    }
   ],
   "source": [
    "from random import randint\n",
    "from collections import Counter\n",
    "\n",
    "class Die(object):\n",
    "    \"\"\"Pojedyncza kość do gry\"\"\"\n",
    "    def __init__(self, num_sides = 6):\n",
    "        \"\"\"Kość to zazwyczaj sześcian\"\"\"\n",
    "        self.num_sides = num_sides\n",
    "    \n",
    "    def roll(self):\n",
    "        \"\"\"Zwraca wartość 1 do liczby ścianek losowo\"\"\"\n",
    "        return randint(1,self.num_sides)\n",
    "\n",
    "\n",
    "# PROGRAM\n",
    "die = Die()\n",
    "\n",
    "results = []\n",
    "for roll_num in range(100):\n",
    "    result = die.roll(), die.roll()\n",
    "    results.append(result)\n",
    "\n",
    "print(results)\n",
    "print(len(results))\n",
    "Counter(results)"
   ]
  }
 ],
 "metadata": {
  "kernelspec": {
   "display_name": "Python 3",
   "language": "python",
   "name": "python3"
  },
  "language_info": {
   "codemirror_mode": {
    "name": "ipython",
    "version": 3
   },
   "file_extension": ".py",
   "mimetype": "text/x-python",
   "name": "python",
   "nbconvert_exporter": "python",
   "pygments_lexer": "ipython3",
   "version": "3.7.5"
  }
 },
 "nbformat": 4,
 "nbformat_minor": 4
}
